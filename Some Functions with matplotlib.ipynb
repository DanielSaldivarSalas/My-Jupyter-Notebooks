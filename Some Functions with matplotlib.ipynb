{
 "cells": [
  {
   "cell_type": "code",
   "execution_count": 1,
   "metadata": {
    "collapsed": true
   },
   "outputs": [],
   "source": [
    "import matplotlib.pyplot as plt"
   ]
  },
  {
   "cell_type": "code",
   "execution_count": 2,
   "metadata": {
    "collapsed": true
   },
   "outputs": [],
   "source": [
    "x1 = [2,4,6,8,10]\n",
    "y1 = [6, 7, 8, 2, 4]\n",
    "\n",
    "x2 = [1, 3, 5, 7 ,9]\n",
    "y2 = [7, 8, 2, 4, 2]"
   ]
  },
  {
   "cell_type": "code",
   "execution_count": 3,
   "metadata": {
    "collapsed": true
   },
   "outputs": [],
   "source": [
    "\n",
    "#The colors for python are blue, green, red, cyan, magenta, yellow, and black\n",
    "plt.bar(x1, y1 , label = 'Bars1', color = 'red')\n",
    "plt.bar(x2, y2 , label = 'Bars1', color = 'blue')\n",
    "\n",
    "plt.xlabel('Independent variable')\n",
    "plt.ylabel('depenent variable')\n",
    "plt.title('Interesting graph\\n Check it out!')\n",
    "\n",
    "plt.legend()\n",
    "\n",
    "plt.show()\n"
   ]
  },
  {
   "cell_type": "code",
   "execution_count": null,
   "metadata": {
    "collapsed": true
   },
   "outputs": [],
   "source": []
  }
 ],
 "metadata": {
  "kernelspec": {
   "display_name": "Python 3",
   "language": "python",
   "name": "python3"
  },
  "language_info": {
   "codemirror_mode": {
    "name": "ipython",
    "version": 3
   },
   "file_extension": ".py",
   "mimetype": "text/x-python",
   "name": "python",
   "nbconvert_exporter": "python",
   "pygments_lexer": "ipython3",
   "version": "3.5.1"
  }
 },
 "nbformat": 4,
 "nbformat_minor": 0
}
