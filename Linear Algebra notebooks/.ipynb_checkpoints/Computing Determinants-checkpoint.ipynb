{
 "cells": [
  {
   "cell_type": "markdown",
   "metadata": {},
   "source": [
    "<b>What is so special about a determinant?</b> <p></p>\n",
    "You can only calculate a determinant of a square matrix (nxn matrix).<p></p>\n",
    "\n",
    "If the determinant != 0 then the matrix is invertible.\n",
    "######################################################\n",
    "\n",
    "\n",
    "\n",
    "Let's calculate the determinant of A.\n",
    "<p></p>\n",
    "\n",
    "$A = \\left[ \\begin{array}{ccc} 3 & 0 & 2 \\\\ 2 & 3 & 2\\\\ 0 & 5 & -1\\\\ \\end{array} \\right] $"
   ]
  },
  {
   "cell_type": "code",
   "execution_count": 1,
   "metadata": {
    "collapsed": false
   },
   "outputs": [],
   "source": [
    "import numpy as np\n",
    "from scipy import linalg\n",
    "\n",
    "A = np.matrix( [[3,0,2], \n",
    "                [2, 3, 2], \n",
    "                [0,5,-1]])"
   ]
  },
  {
   "cell_type": "code",
   "execution_count": 2,
   "metadata": {
    "collapsed": false,
    "scrolled": true
   },
   "outputs": [
    {
     "data": {
      "text/plain": [
       "-19.0"
      ]
     },
     "execution_count": 2,
     "metadata": {},
     "output_type": "execute_result"
    }
   ],
   "source": [
    "linalg.det(A)"
   ]
  },
  {
   "cell_type": "markdown",
   "metadata": {},
   "source": [
    "Now, let's calculate the determinant of B.\n",
    "<p></p>\n",
    "\n",
    "$B = \\left[ \\begin{array}{ccc} 2 & 3 & -3 \\\\ 4 & 0 & 3\\\\ 6 & 1 & 5\\\\ \\end{array} \\right] $"
   ]
  },
  {
   "cell_type": "code",
   "execution_count": 3,
   "metadata": {
    "collapsed": false
   },
   "outputs": [],
   "source": [
    "B = np.matrix ( [[2, 3, -3],\n",
    "                 [ 4, 0, 3],\n",
    "                 [6, 1, 5]])"
   ]
  },
  {
   "cell_type": "code",
   "execution_count": 4,
   "metadata": {
    "collapsed": false
   },
   "outputs": [
    {
     "data": {
      "text/plain": [
       "-24.0"
      ]
     },
     "execution_count": 4,
     "metadata": {},
     "output_type": "execute_result"
    }
   ],
   "source": [
    "linalg.det(B)"
   ]
  }
 ],
 "metadata": {
  "kernelspec": {
   "display_name": "Python 3",
   "language": "python",
   "name": "python3"
  },
  "language_info": {
   "codemirror_mode": {
    "name": "ipython",
    "version": 3
   },
   "file_extension": ".py",
   "mimetype": "text/x-python",
   "name": "python",
   "nbconvert_exporter": "python",
   "pygments_lexer": "ipython3",
   "version": "3.5.1"
  }
 },
 "nbformat": 4,
 "nbformat_minor": 0
}
