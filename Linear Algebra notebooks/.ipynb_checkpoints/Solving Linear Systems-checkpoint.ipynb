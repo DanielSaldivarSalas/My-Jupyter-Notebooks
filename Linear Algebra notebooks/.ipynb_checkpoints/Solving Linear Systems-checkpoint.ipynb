{
 "cells": [
  {
   "cell_type": "markdown",
   "metadata": {},
   "source": [
    "<center> a + b = 35 </center>\n",
    "<center> 2a + 4b = 94 </center>\n",
    "\n",
    "<p></p>\n",
    "<center> So let's put them into Matrix form</center>\n",
    "<p></p>\n",
    "\n",
    "$$A = \\left[ \\begin{array}{ccc} 1 & 1 \\\\ 2 & 4 \\\\ \\end{array} \\right] $$\n",
    "<p></p>\n",
    "\n",
    "$$X = \\left[ \\begin{array}{c} a \\\\ b \\end{array} \\right] $$\n",
    "\n",
    "$$B = \\left[ \\begin{array}{c} 35 \\\\ 94 \\end{array} \\right] $$\n",
    "\n",
    "$$\\left[ \\begin{array}{ccc} 1 & 1 \\\\ 2 & 4 \\\\ \\end{array} \\right]\\left[ \\begin{array}{c} a \\\\ b \\\\ \\end{array} \\right] = \\left [ \\begin{array}{c} 35 \\\\ 94 \\\\ \\end{array} \\right] $$\n",
    "\n",
    "<p></p>\n",
    "<p></p>\n",
    "\n",
    "<center> To solve this system of equations, we will find A<sup>-1</sup></center>\n",
    "<center>A**X** = B</center>\n",
    "<center>A<sup>-1</sup>A**X** = A<sup>-1</sup>B</center>\n",
    "<center>**X** = A<sup>-1</sup>B</center>\n"
   ]
  },
  {
   "cell_type": "code",
   "execution_count": 3,
   "metadata": {
    "collapsed": false
   },
   "outputs": [],
   "source": [
    "import numpy as np\n",
    "\n",
    "#define matrices\n",
    "A = np.matrix([[1,1],[2,4]])\n",
    "B = np.matrix([[35],[94]])"
   ]
  },
  {
   "cell_type": "code",
   "execution_count": 8,
   "metadata": {
    "collapsed": false
   },
   "outputs": [],
   "source": [
    "#Find the inverse of A\n",
    "A_inverse = np.linalg.inv(A)"
   ]
  },
  {
   "cell_type": "code",
   "execution_count": 9,
   "metadata": {
    "collapsed": false
   },
   "outputs": [
    {
     "name": "stdout",
     "output_type": "stream",
     "text": [
      "[[ 2.  -0.5]\n",
      " [-1.   0.5]]\n"
     ]
    }
   ],
   "source": [
    "print(A_inverse)"
   ]
  },
  {
   "cell_type": "code",
   "execution_count": 10,
   "metadata": {
    "collapsed": true
   },
   "outputs": [],
   "source": [
    "X = A_inverse*B"
   ]
  },
  {
   "cell_type": "code",
   "execution_count": 11,
   "metadata": {
    "collapsed": false
   },
   "outputs": [
    {
     "name": "stdout",
     "output_type": "stream",
     "text": [
      "[[ 23.]\n",
      " [ 12.]]\n"
     ]
    }
   ],
   "source": [
    "print(X)"
   ]
  },
  {
   "cell_type": "code",
   "execution_count": null,
   "metadata": {
    "collapsed": true
   },
   "outputs": [],
   "source": []
  }
 ],
 "metadata": {
  "kernelspec": {
   "display_name": "Python 3",
   "language": "python",
   "name": "python3"
  },
  "language_info": {
   "codemirror_mode": {
    "name": "ipython",
    "version": 3
   },
   "file_extension": ".py",
   "mimetype": "text/x-python",
   "name": "python",
   "nbconvert_exporter": "python",
   "pygments_lexer": "ipython3",
   "version": "3.5.1"
  }
 },
 "nbformat": 4,
 "nbformat_minor": 0
}
