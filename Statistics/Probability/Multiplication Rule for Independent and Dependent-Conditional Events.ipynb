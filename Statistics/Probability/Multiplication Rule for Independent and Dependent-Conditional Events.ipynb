{
 "cells": [
  {
   "cell_type": "markdown",
   "metadata": {},
   "source": [
    "<center><u>Multiplication Rule for Independent Events</u></center>\n",
    " $$P(A \\cap B) = P(A)*P(B) $$\n",
    " $$P(A and B) = P(A)*P(B) $$"
   ]
  },
  {
   "cell_type": "markdown",
   "metadata": {},
   "source": [
    "Example 1:<p></p>\n",
    "What is the probability of rolling a '5' and a '3' with a normal six-sided die?<p></p>\n",
    "$P(5 \\cap 3) = P(5)*P(3)$ <p></p>\n",
    "$P(5 \\cap 3) = \\frac{1}{6} * \\frac{1}{6}$<p></p>\n",
    "$P(5 \\cap 3) = \\frac{1}{36}$\n"
   ]
  },
  {
   "cell_type": "markdown",
   "metadata": {},
   "source": [
    "<center>++++++++++++++++++++++</center>\n",
    "<center><u>General Multiplication Rule for Dependent/Conditional Events</u></center>\n",
    "$$P(A \\cap B) = P(A) * P(B|A) $$\n",
    "<center>P(A and B) = P(A) * P(B given that A has occured)<center>"
   ]
  },
  {
   "cell_type": "markdown",
   "metadata": {
    "collapsed": true
   },
   "source": [
    "Example 2: Using the General Multiplication Rule for Dependent/Conditional Events<p></p>\n",
    "What is the probability of drawing a \"king and then drawing a \"queen\" from a deck of cards, \n",
    "without putting the king back?<p></p>\n",
    "$P(A \\cap B) = \\frac{4}{52}*\\frac{4}{51} = \\frac{16}{2652} = 0.006 = 0.6% <p></p>\n",
    "\n"
   ]
  },
  {
   "cell_type": "markdown",
   "metadata": {},
   "source": [
    "Example 3:<p></p>\n",
    "Suppose you tend to spend all your free weekeneds in Seattle.\n",
    "- Your Boss gives you roughly 30% of weekends off,<p></p>\n",
    "so P(in Seattle) = 0.3\n",
    "- It rains roughly 10% of days: P(rain) = 0.1<p></p>\n",
    "\n",
    "These events P(in Seattle) and P(Rain) are NOT independent: The probability that it is going to rain will indeed be affected by your being in Seattle as opposed to, say, being in Death Valley, California.<p></p>\n",
    "Since these events are not independent, we will use the General Multiplication Rule<p></p>\n",
    "P(in Seattle) = 0.3 <p></p>\n",
    "P(Rain given that we are in Seattle) = 0.4 or P(Rain|Seattle)\n",
    "\n"
   ]
  },
  {
   "cell_type": "markdown",
   "metadata": {},
   "source": [
    "+++++++++++++++++++++++++++++++<p></p>\n",
    "Conditional Probability<p></p>\n",
    "<b>\n",
    "The moment you find yourself saying “given that” (or something similar), you are talking about a conditional probability.  In other words, you are acknowledging that the probability you are interested in may be affected by something else.</b> "
   ]
  },
  {
   "cell_type": "markdown",
   "metadata": {},
   "source": [
    "Example 4:<p></P>\n",
    "![General Multiplication Rule](img/general_multiplication_rule.png)"
   ]
  },
  {
   "cell_type": "markdown",
   "metadata": {},
   "source": [
    "![genmulrule](img/genmulrule.png)\n",
    "![genmulrule](img/genmulrule2.png)\n",
    "\n",
    "For more information, check out \n",
    "<a href='#the_destination'>Link to the destination'</a>"
   ]
  },
  {
   "cell_type": "code",
   "execution_count": null,
   "metadata": {
    "collapsed": true
   },
   "outputs": [],
   "source": []
  }
 ],
 "metadata": {
  "kernelspec": {
   "display_name": "Python 3",
   "language": "python",
   "name": "python3"
  },
  "language_info": {
   "codemirror_mode": {
    "name": "ipython",
    "version": 3
   },
   "file_extension": ".py",
   "mimetype": "text/x-python",
   "name": "python",
   "nbconvert_exporter": "python",
   "pygments_lexer": "ipython3",
   "version": "3.5.1"
  }
 },
 "nbformat": 4,
 "nbformat_minor": 0
}
