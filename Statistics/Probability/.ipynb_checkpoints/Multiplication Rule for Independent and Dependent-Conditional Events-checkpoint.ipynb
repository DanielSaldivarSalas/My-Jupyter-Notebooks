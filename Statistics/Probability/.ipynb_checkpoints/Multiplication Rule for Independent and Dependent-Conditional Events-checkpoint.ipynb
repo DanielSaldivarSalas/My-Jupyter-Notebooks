{
 "cells": [
  {
   "cell_type": "markdown",
   "metadata": {},
   "source": [
    "<center><u>Multiplication Rule for Independent Events</u></center>\n",
    " $$P(A \\cap B) = P(A)*P(B) $$\n",
    " $$P(A and B) = P(A)*P(B) $$"
   ]
  },
  {
   "cell_type": "markdown",
   "metadata": {},
   "source": [
    "Example 1:<p></p>\n",
    "What is the probability of rolling a '5' and a '3' with a normal six-sided die?<p></p>\n",
    "$P(5 \\cap 3) = P(5)*P(3)$ <p></p>\n",
    "$P(5 \\cap 3) = \\frac{1}{6} * \\frac{1}{6}$<p></p>\n",
    "$P(5 \\cap 3) = \\frac{1}{36}$\n"
   ]
  },
  {
   "cell_type": "markdown",
   "metadata": {},
   "source": [
    "<center>++++++++++++++++++++++</center>\n",
    "<center><u>General Multiplication Rule for Dependent/Conditional Events</u></center>\n",
    "$$P(A \\cap B) = P(A) * P(B|A) $$"
   ]
  },
  {
   "cell_type": "markdown",
   "metadata": {
    "collapsed": true
   },
   "source": [
    "Example 2: Using the General Multiplication Rule for Dependent/Conditional Events<p></p>\n",
    "What is the probability of drawing a \"king and then drawing a \"queen\" from a deck of cards, \n",
    "without putting the king back?<p></p>\n",
    "$P(A \\cap B) = \\frac{4}{52}*\\frac{4}{51} = \\frac{16}{2652} = 0.006 = 0.6% <p></p>\n",
    "\n"
   ]
  },
  {
   "cell_type": "code",
   "execution_count": null,
   "metadata": {
    "collapsed": true
   },
   "outputs": [],
   "source": []
  }
 ],
 "metadata": {
  "kernelspec": {
   "display_name": "Python 3",
   "language": "python",
   "name": "python3"
  },
  "language_info": {
   "codemirror_mode": {
    "name": "ipython",
    "version": 3
   },
   "file_extension": ".py",
   "mimetype": "text/x-python",
   "name": "python",
   "nbconvert_exporter": "python",
   "pygments_lexer": "ipython3",
   "version": "3.5.1"
  }
 },
 "nbformat": 4,
 "nbformat_minor": 0
}
