{
 "cells": [
  {
   "cell_type": "markdown",
   "metadata": {},
   "source": [
    "<b>We can think of a square image as an nxn matrix.</b>\n",
    "\n",
    "Let's start with a 4 pixel by 4 pixel image.\n",
    "\n",
    "So the transformation will look like this.\n",
    "\n",
    "$$  \\left[ \\begin{array}{ccc} 1 & 2 & 3 & 4 \\\\ 5 & 6 & 7 & 8\\\\ 9 & 10 & 11 & 12\\\\ 13 & 14 & 15 & 16\\\\ \\end{array}  \\right] \\rightarrow  \\left[ \\begin{array}{ccc} 13 & 9 & 5 & 1 \\\\ 14 & 10 & 6 & 2\\\\ 15 & 11 & 7 & 3\\\\ 16 & 12 & 8 & 4\\\\ \\end{array}  \\right]$$\n",
    "\n",
    "\n"
   ]
  },
  {
   "cell_type": "code",
   "execution_count": 1,
   "metadata": {
    "collapsed": true
   },
   "outputs": [],
   "source": [
    "import numpy as np\n",
    "A = [[1,2,3,4], [5, 6, 7, 8], [9, 10, 11, 12], [13, 14, 15, 16]]"
   ]
  },
  {
   "cell_type": "code",
   "execution_count": 2,
   "metadata": {
    "collapsed": true
   },
   "outputs": [],
   "source": [
    "def printMatrix(n):\n",
    "    'Method that prints the n matrix'\n",
    "    for i in range(len(n)):\n",
    "        print(n[i])\n"
   ]
  },
  {
   "cell_type": "code",
   "execution_count": 6,
   "metadata": {
    "collapsed": false
   },
   "outputs": [
    {
     "name": "stdout",
     "output_type": "stream",
     "text": [
      "[1, 2, 3, 4]\n",
      "[5, 6, 7, 8]\n",
      "[9, 10, 11, 12]\n",
      "[13, 14, 15, 16]\n"
     ]
    }
   ],
   "source": [
    "printMatrix(A)"
   ]
  },
  {
   "cell_type": "markdown",
   "metadata": {},
   "source": [
    "First, let's reverse the matrix.\n",
    "\n"
   ]
  },
  {
   "cell_type": "code",
   "execution_count": 8,
   "metadata": {
    "collapsed": false
   },
   "outputs": [],
   "source": [
    "#len(A) will be equal to the number of rows in the matrix\n",
    "r = len(A) - 1 \n",
    "\n",
    "#Let B be the rows of A reversed.\n",
    "B = list()\n",
    "\n",
    "\n",
    "for i in range(len(A)):\n",
    "    B.append(A[r-i])"
   ]
  },
  {
   "cell_type": "code",
   "execution_count": 10,
   "metadata": {
    "collapsed": false,
    "scrolled": true
   },
   "outputs": [
    {
     "name": "stdout",
     "output_type": "stream",
     "text": [
      "[13, 14, 15, 16]\n",
      "[9, 10, 11, 12]\n",
      "[5, 6, 7, 8]\n",
      "[1, 2, 3, 4]\n"
     ]
    }
   ],
   "source": [
    "printMatrix(B)"
   ]
  },
  {
   "cell_type": "code",
   "execution_count": 12,
   "metadata": {
    "collapsed": false
   },
   "outputs": [],
   "source": [
    "#Let C be the the square image of 90 degrees for a 4x4 picture\n",
    "C = list()\n",
    "for i in range(len(B)):\n",
    "    C.append(list())\n",
    "    for j in range(len(B)):\n",
    "        C[i].append([B[j][i]])\n",
    "        \n"
   ]
  },
  {
   "cell_type": "code",
   "execution_count": 13,
   "metadata": {
    "collapsed": false,
    "scrolled": true
   },
   "outputs": [
    {
     "name": "stdout",
     "output_type": "stream",
     "text": [
      "[[13], [9], [5], [1]]\n",
      "[[14], [10], [6], [2]]\n",
      "[[15], [11], [7], [3]]\n",
      "[[16], [12], [8], [4]]\n"
     ]
    }
   ],
   "source": [
    "printMatrix(C)"
   ]
  },
  {
   "cell_type": "code",
   "execution_count": 14,
   "metadata": {
    "collapsed": false
   },
   "outputs": [
    {
     "ename": "SyntaxError",
     "evalue": "'return' outside function (<ipython-input-14-951ab3528cae>, line 1)",
     "output_type": "error",
     "traceback": [
      "\u001b[1;36m  File \u001b[1;32m\"<ipython-input-14-951ab3528cae>\"\u001b[1;36m, line \u001b[1;32m1\u001b[0m\n\u001b[1;33m    return C\u001b[0m\n\u001b[1;37m            ^\u001b[0m\n\u001b[1;31mSyntaxError\u001b[0m\u001b[1;31m:\u001b[0m 'return' outside function\n"
     ]
    }
   ],
   "source": [
    "//TODO\n"
   ]
  },
  {
   "cell_type": "code",
   "execution_count": null,
   "metadata": {
    "collapsed": true
   },
   "outputs": [],
   "source": []
  }
 ],
 "metadata": {
  "kernelspec": {
   "display_name": "Python 3",
   "language": "python",
   "name": "python3"
  },
  "language_info": {
   "codemirror_mode": {
    "name": "ipython",
    "version": 3
   },
   "file_extension": ".py",
   "mimetype": "text/x-python",
   "name": "python",
   "nbconvert_exporter": "python",
   "pygments_lexer": "ipython3",
   "version": "3.5.1"
  }
 },
 "nbformat": 4,
 "nbformat_minor": 0
}
