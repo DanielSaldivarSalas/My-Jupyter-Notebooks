{
 "cells": [
  {
   "cell_type": "markdown",
   "metadata": {
    "collapsed": false
   },
   "source": [
    "Using Binomial Coefficients\n",
    "<p></p>\n",
    "$\n",
    "\\left( {\\begin{array}{*{20}c}\n",
    "   n  \\\\\n",
    "   k  \\\\\n",
    "\\end{array}} \\right) = \\frac{{n!}}{{(n-k)!{k!}}}\n",
    "$\n",
    "\n",
    "\n",
    "Let's calculate \n",
    "$\n",
    "\\left( {\\begin{array}{*{20}c}\n",
    "   5  \\\\\n",
    "   2  \\\\\n",
    "\\end{array}} \\right) = \\frac{{5!}}{{(5-2)!{2!}}}\n",
    "$"
   ]
  },
  {
   "cell_type": "code",
   "execution_count": 1,
   "metadata": {
    "collapsed": true
   },
   "outputs": [],
   "source": [
    "from scipy import special"
   ]
  },
  {
   "cell_type": "code",
   "execution_count": 2,
   "metadata": {
    "collapsed": false
   },
   "outputs": [
    {
     "data": {
      "text/plain": [
       "10.0"
      ]
     },
     "execution_count": 2,
     "metadata": {},
     "output_type": "execute_result"
    }
   ],
   "source": [
    "special.binom(5,2)"
   ]
  },
  {
   "cell_type": "code",
   "execution_count": null,
   "metadata": {
    "collapsed": true
   },
   "outputs": [],
   "source": []
  }
 ],
 "metadata": {
  "kernelspec": {
   "display_name": "Python 3",
   "language": "python",
   "name": "python3"
  },
  "language_info": {
   "codemirror_mode": {
    "name": "ipython",
    "version": 3
   },
   "file_extension": ".py",
   "mimetype": "text/x-python",
   "name": "python",
   "nbconvert_exporter": "python",
   "pygments_lexer": "ipython3",
   "version": "3.5.1"
  }
 },
 "nbformat": 4,
 "nbformat_minor": 0
}
